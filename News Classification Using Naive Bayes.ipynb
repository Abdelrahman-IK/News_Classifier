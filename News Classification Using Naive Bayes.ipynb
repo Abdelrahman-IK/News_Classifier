{
 "cells": [
  {
   "cell_type": "code",
   "execution_count": 1,
   "metadata": {},
   "outputs": [],
   "source": [
    "import re\n",
    "from sklearn.externals import joblib\n",
    "import pandas as pd\n",
    "from nltk.corpus import stopwords\n",
    "import numpy as np\n",
    "import sklearn\n",
    "from sklearn.naive_bayes import MultinomialNB\n",
    "from sklearn.metrics import accuracy_score ,confusion_matrix"
   ]
  },
  {
   "cell_type": "code",
   "execution_count": 2,
   "metadata": {},
   "outputs": [],
   "source": [
    "def get_words(text):               \n",
    "    headlines = re.sub(\"[^a-zA-Z]\", \" \",text) #Remove everything other than letters     \n",
    "    words = headlines.lower().split() #Convert to lower case, split into individual words    \n",
    "    stops = set(stopwords.words(\"english\"))  #Convert the stopwords to a set for improvised performance                 \n",
    "    meaningful_words = [w for w in words if not w in stops]   #Removing stopwords\n",
    "    return( \" \".join( meaningful_words ))"
   ]
  },
  {
   "cell_type": "code",
   "execution_count": 3,
   "metadata": {},
   "outputs": [],
   "source": [
    "news = pd.read_csv(\"total_news.csv\") #Importing data from CSV\n",
    "X_train, X_test, Y_train, Y_test = sklearn.model_selection.train_test_split(news[\"TITLE\"], news[\"CATEGORY\"], test_size = 0.2)\n",
    "X_train = np.array(X_train);\n",
    "X_test = np.array(X_test);\n",
    "Y_train = np.array(Y_train);\n",
    "Y_test = np.array(Y_test);\n",
    "cleanHeadlines_train = [] #To append processed headlines\n",
    "cleanHeadlines_test = [] #To append processed headlines\n",
    "number_reviews_train = len(X_train) #Calculating the number of reviews\n",
    "number_reviews_test = len(X_test) #Calculating the number of reviews"
   ]
  },
  {
   "cell_type": "code",
   "execution_count": 4,
   "metadata": {},
   "outputs": [],
   "source": [
    "for i in range(0,number_reviews_train):\n",
    "    cleanHeadline = get_words(X_train[i]) #Processing the data and getting words with no special characters, numbers or html tags\n",
    "    cleanHeadlines_train.append( cleanHeadline )"
   ]
  },
  {
   "cell_type": "code",
   "execution_count": 5,
   "metadata": {},
   "outputs": [],
   "source": [
    "for i in range(0,number_reviews_test):\n",
    "    cleanHeadline = get_words(X_test[i]) #Processing the data and getting words with no special characters, numbers or html tags\n",
    "    cleanHeadlines_test.append( cleanHeadline )"
   ]
  },
  {
   "cell_type": "code",
   "execution_count": 6,
   "metadata": {},
   "outputs": [],
   "source": [
    "vectorize = sklearn.feature_extraction.text.CountVectorizer(analyzer = \"word\",max_features = 1700)\n",
    "bag_train = vectorize.fit_transform(cleanHeadlines_train)\n",
    "X_train = bag_train.toarray()"
   ]
  },
  {
   "cell_type": "code",
   "execution_count": 7,
   "metadata": {},
   "outputs": [],
   "source": [
    "bag_test = vectorize.transform(cleanHeadlines_test)\n",
    "X_test = bag_test.toarray()"
   ]
  },
  {
   "cell_type": "code",
   "execution_count": 8,
   "metadata": {},
   "outputs": [
    {
     "data": {
      "text/plain": [
       "MultinomialNB(alpha=1.0, class_prior=None, fit_prior=True)"
      ]
     },
     "execution_count": 8,
     "metadata": {},
     "output_type": "execute_result"
    }
   ],
   "source": [
    "vocab = vectorize.get_feature_names()\n",
    "nb = MultinomialNB()\n",
    "nb.fit(X_train, Y_train)"
   ]
  },
  {
   "cell_type": "code",
   "execution_count": 10,
   "metadata": {},
   "outputs": [
    {
     "name": "stdout",
     "output_type": "stream",
     "text": [
      "Accuracy: 84.68822498934709\n"
     ]
    }
   ],
   "source": [
    "print(\"Accuracy: \"+ str(nb.score(X_test, Y_test)*100))\n",
    "pred = nb.predict(X_test)"
   ]
  },
  {
   "cell_type": "code",
   "execution_count": null,
   "metadata": {},
   "outputs": [],
   "source": [
    "import matplotlib.pyplot as plt\n",
    "plt.hist(pred)\n",
    "plt.title('Predicted Categories')\n",
    "plt.ylabel('Count')\n",
    "plt.xlabel('Categories')\n",
    "plt.show()"
   ]
  },
  {
   "cell_type": "code",
   "execution_count": 11,
   "metadata": {},
   "outputs": [
    {
     "data": {
      "text/plain": [
       "['model.pkl']"
      ]
     },
     "execution_count": 11,
     "metadata": {},
     "output_type": "execute_result"
    }
   ],
   "source": [
    "joblib.dump(nb, 'model.pkl') "
   ]
  }
 ],
 "metadata": {
  "kernelspec": {
   "display_name": "Python 3",
   "language": "python",
   "name": "python3"
  },
  "language_info": {
   "codemirror_mode": {
    "name": "ipython",
    "version": 3
   },
   "file_extension": ".py",
   "mimetype": "text/x-python",
   "name": "python",
   "nbconvert_exporter": "python",
   "pygments_lexer": "ipython3",
   "version": "3.6.0"
  }
 },
 "nbformat": 4,
 "nbformat_minor": 2
}
